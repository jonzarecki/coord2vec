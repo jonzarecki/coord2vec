{
 "cells": [
  {
   "cell_type": "markdown",
   "metadata": {},
   "source": [
    "### Preperations with pycharm"
   ]
  },
  {
   "cell_type": "code",
   "execution_count": 1,
   "metadata": {
    "ExecuteTime": {
     "end_time": "2020-03-19T12:13:08.796954Z",
     "start_time": "2020-03-19T12:13:08.781386Z"
    }
   },
   "outputs": [],
   "source": [
    "%load_ext autoreload\n",
    "%autoreload 2\n",
    "\n",
    "import os,sys,inspect\n",
    "current_dir = os.path.dirname(os.path.abspath(inspect.getfile(inspect.currentframe())))\n",
    "parent_dir = os.path.dirname(os.path.dirname(os.path.dirname(current_dir)))\n",
    "sys.path.insert(0, os.path.join(parent_dir))"
   ]
  },
  {
   "cell_type": "markdown",
   "metadata": {},
   "source": [
    "### imports"
   ]
  },
  {
   "cell_type": "code",
   "execution_count": 2,
   "metadata": {
    "ExecuteTime": {
     "end_time": "2020-03-19T12:13:10.208313Z",
     "start_time": "2020-03-19T12:13:08.798673Z"
    }
   },
   "outputs": [
    {
     "name": "stderr",
     "output_type": "stream",
     "text": [
      "/data/home/morpheus/coord2vec_noam/coord2vec/common/parallel/multiproc_util.py:8: TqdmExperimentalWarning: Using `tqdm.autonotebook.tqdm` in notebook mode. Use `tqdm.tqdm` instead to force console mode (e.g. in jupyter console)\n",
      "  from tqdm.autonotebook import tqdm\n"
     ]
    }
   ],
   "source": [
    "from unittest import TestCase\n",
    "import re\n",
    "\n",
    "from geopandas import GeoDataFrame\n",
    "from shapely import wkt\n",
    "import pandas as pd\n",
    "import numpy as np\n",
    "from shapely.geometry import Point\n",
    "from sklearn.model_selection import train_test_split\n",
    "from sklearn.linear_model import LinearRegression\n",
    "from sklearn.metrics import mean_squared_error\n",
    "from catboost import CatBoostRegressor\n",
    "\n",
    "\n",
    "from coord2vec.config import BUILDINGS_FEATURES_TABLE\n",
    "from coord2vec.feature_extraction.feature_bundles import karka_bundle_features, create_building_features\n",
    "from coord2vec.feature_extraction.features_builders import FeaturesBuilder"
   ]
  },
  {
   "cell_type": "markdown",
   "metadata": {},
   "source": [
    "### get csv data"
   ]
  },
  {
   "cell_type": "code",
   "execution_count": 3,
   "metadata": {
    "ExecuteTime": {
     "end_time": "2020-03-19T12:13:10.245409Z",
     "start_time": "2020-03-19T12:13:10.210555Z"
    }
   },
   "outputs": [],
   "source": [
    "def get_csv_data(use_full_dataset=True): # -> Tuple[Tuple[float, float], pd.DataFrame, Any]:\n",
    "    server_csv_filder_path = \"/data/home/morpheus/coord2vec_noam/coord2vec/evaluation/tasks/house_pricing\"\n",
    "    if use_full_dataset:\n",
    "        csv_path = f\"{server_csv_filder_path}/Housing price in Beijing.csv\"\n",
    "    else:\n",
    "        small_or_medium = \"medium\"\n",
    "        csv_path = f\"{server_csv_filder_path}/Housing price in Beijing {small_or_medium}.csv\"\n",
    "    df = pd.read_csv(csv_path, engine='python')\n",
    "#     print(df)\n",
    "    df['coord'] = df.apply(lambda row: tuple(row[['Lng', 'Lat']].values), axis=1)\n",
    "    features = df[[\"DOM\", \"followers\", \"square\" ,\"livingRoom\", \"drawingRoom\", \"kitchen\", \"bathRoom\",\n",
    "                  \"floor\", \"buildingType\", \"constructionTime\", \"renovationCondition\", \"buildingStructure\", \"ladderRatio\",\n",
    "                  \"elevator\", \"fiveYearsProperty\", \"subway\", \"district\", \"communityAverage\", \"coord\", \"totalPrice\"]]\n",
    "    # in features all csv exept: 'url', 'id', 'Lng', 'Lat', 'coord', \"Cid\", \"tradeTime\", \n",
    "    return features"
   ]
  },
  {
   "cell_type": "code",
   "execution_count": 4,
   "metadata": {
    "ExecuteTime": {
     "end_time": "2020-03-19T12:16:34.164104Z",
     "start_time": "2020-03-19T12:13:10.247661Z"
    },
    "scrolled": true
   },
   "outputs": [],
   "source": [
    "use_full_dataset = True\n",
    "csv_features = get_csv_data(use_full_dataset=use_full_dataset)"
   ]
  },
  {
   "cell_type": "markdown",
   "metadata": {},
   "source": [
    "## cleaning the data"
   ]
  },
  {
   "cell_type": "markdown",
   "metadata": {},
   "source": [
    "### generic clean funcion"
   ]
  },
  {
   "cell_type": "code",
   "execution_count": 5,
   "metadata": {
    "ExecuteTime": {
     "end_time": "2020-03-19T12:16:34.185287Z",
     "start_time": "2020-03-19T12:16:34.165978Z"
    }
   },
   "outputs": [],
   "source": [
    "def generic_clean_col(df, clean_funcs):\n",
    "    ''' df - data frame\n",
    "        cols - list of strings contains cols that should be cleaned\n",
    "        clean_funcs - list of funcs that clean cols that should be cleand in df \n",
    "    '''\n",
    "    for i, col in enumerate(clean_funcs):\n",
    "        df = clean_funcs[i](df)\n",
    "    cleaned_df = df.fillna(0)\n",
    "    return cleaned_df"
   ]
  },
  {
   "cell_type": "markdown",
   "metadata": {},
   "source": [
    "### clean floor column"
   ]
  },
  {
   "cell_type": "code",
   "execution_count": 6,
   "metadata": {
    "ExecuteTime": {
     "end_time": "2020-03-19T12:16:34.401706Z",
     "start_time": "2020-03-19T12:16:34.186961Z"
    },
    "scrolled": true
   },
   "outputs": [
    {
     "data": {
      "text/plain": [
       "92235     �ֻ�ṹ\n",
       "92251     �ֻ�ṹ\n",
       "92267     �ֻ�ṹ\n",
       "92270     ��Ͻṹ\n",
       "92297     �ֻ�ṹ\n",
       "92299     ��Ͻṹ\n",
       "92300     �ֻ�ṹ\n",
       "92304     ��Ͻṹ\n",
       "92340     ��Ͻṹ\n",
       "92349     �ֻ�ṹ\n",
       "92356     ��Ͻṹ\n",
       "92398     �ֻ�ṹ\n",
       "92409     ��Ͻṹ\n",
       "92414     �ֻ�ṹ\n",
       "92467     �ֻ�ṹ\n",
       "92520     ��Ͻṹ\n",
       "92610     ��Ͻṹ\n",
       "92660     ��Ͻṹ\n",
       "92814     �ֻ�ṹ\n",
       "92845     �ֻ�ṹ\n",
       "92899     �ֻ�ṹ\n",
       "113275    ��Ͻṹ\n",
       "141376    �ֻ�ṹ\n",
       "208214    ��Ͻṹ\n",
       "220567    ��Ͻṹ\n",
       "220569    ��Ͻṹ\n",
       "220570    ��Ͻṹ\n",
       "220603    ��Ͻṹ\n",
       "224349    �ֻ�ṹ\n",
       "243731    �ֻ�ṹ\n",
       "244054    �ֻ�ṹ\n",
       "245394    �ֻ�ṹ\n",
       "Name: floor, dtype: object"
      ]
     },
     "execution_count": 6,
     "metadata": {},
     "output_type": "execute_result"
    }
   ],
   "source": [
    "# some floors are not writen well\n",
    "csv_features[\"floor\"][csv_features[\"floor\"].apply(lambda floor: len(floor.split()))==1]"
   ]
  },
  {
   "cell_type": "code",
   "execution_count": 7,
   "metadata": {
    "ExecuteTime": {
     "end_time": "2020-03-19T12:16:34.424596Z",
     "start_time": "2020-03-19T12:16:34.403428Z"
    }
   },
   "outputs": [],
   "source": [
    "def clean_floor_col(df):\n",
    "    # remove data points with no complete data\n",
    "    cleaned_df = df.copy()\n",
    "    cleaned_df = cleaned_df[cleaned_df[\"floor\"].apply(lambda floor: len(floor.split()))==2]\n",
    "    cleaned_df[\"floor\"] = cleaned_df[\"floor\"].apply(lambda floor: floor.split()[1])\n",
    "    return cleaned_df"
   ]
  },
  {
   "cell_type": "code",
   "execution_count": 8,
   "metadata": {
    "ExecuteTime": {
     "end_time": "2020-03-19T12:16:34.826149Z",
     "start_time": "2020-03-19T12:16:34.426914Z"
    }
   },
   "outputs": [
    {
     "data": {
      "text/plain": [
       "(318819, 318851)"
      ]
     },
     "execution_count": 8,
     "metadata": {},
     "output_type": "execute_result"
    }
   ],
   "source": [
    "cleaned_floor_col = clean_floor_col(csv_features)\n",
    "len(cleaned_floor_col), len(csv_features)"
   ]
  },
  {
   "cell_type": "markdown",
   "metadata": {},
   "source": [
    "### clean constructionTime column"
   ]
  },
  {
   "cell_type": "code",
   "execution_count": 9,
   "metadata": {
    "ExecuteTime": {
     "end_time": "2020-03-19T12:16:34.923085Z",
     "start_time": "2020-03-19T12:16:34.827746Z"
    },
    "scrolled": false
   },
   "outputs": [
    {
     "data": {
      "text/plain": [
       "41        δ֪\n",
       "82        δ֪\n",
       "101       δ֪\n",
       "158       δ֪\n",
       "160       δ֪\n",
       "          ..\n",
       "318825    δ֪\n",
       "318828    δ֪\n",
       "318833    δ֪\n",
       "318839    δ֪\n",
       "318850    δ֪\n",
       "Name: constructionTime, Length: 19283, dtype: object"
      ]
     },
     "execution_count": 9,
     "metadata": {},
     "output_type": "execute_result"
    }
   ],
   "source": [
    "# some constructionTime are not numeric\n",
    "csv_features[csv_features['constructionTime'].apply(lambda time : not time.isnumeric())]['constructionTime']"
   ]
  },
  {
   "cell_type": "code",
   "execution_count": 10,
   "metadata": {
    "ExecuteTime": {
     "end_time": "2020-03-19T12:16:34.948060Z",
     "start_time": "2020-03-19T12:16:34.924971Z"
    }
   },
   "outputs": [],
   "source": [
    "def clean_constructionTime_col(df):\n",
    "    cleaned_df = df.copy()\n",
    "    cleaned_df['constructionTime'][cleaned_df['constructionTime'].apply(lambda time : not time.isnumeric())] = 0\n",
    "    return cleaned_df"
   ]
  },
  {
   "cell_type": "markdown",
   "metadata": {},
   "source": [
    "### clean the data using the generic clean function"
   ]
  },
  {
   "cell_type": "code",
   "execution_count": 11,
   "metadata": {
    "ExecuteTime": {
     "end_time": "2020-03-19T12:16:35.532923Z",
     "start_time": "2020-03-19T12:16:34.949598Z"
    }
   },
   "outputs": [
    {
     "name": "stderr",
     "output_type": "stream",
     "text": [
      "/data/anaconda/envs/coord2vec/lib/python3.7/site-packages/ipykernel_launcher.py:3: SettingWithCopyWarning: \n",
      "A value is trying to be set on a copy of a slice from a DataFrame\n",
      "\n",
      "See the caveats in the documentation: https://pandas.pydata.org/pandas-docs/stable/user_guide/indexing.html#returning-a-view-versus-a-copy\n",
      "  This is separate from the ipykernel package so we can avoid doing imports until\n"
     ]
    }
   ],
   "source": [
    "clean_funcs = [clean_floor_col, clean_constructionTime_col] # can add function if needed\n",
    "cleaned_features = generic_clean_col(csv_features, clean_funcs)"
   ]
  },
  {
   "cell_type": "markdown",
   "metadata": {},
   "source": [
    "### get geographical data"
   ]
  },
  {
   "cell_type": "code",
   "execution_count": 12,
   "metadata": {
    "ExecuteTime": {
     "end_time": "2020-03-19T12:16:36.179594Z",
     "start_time": "2020-03-19T12:16:35.534534Z"
    }
   },
   "outputs": [],
   "source": [
    "# coords = cleaned_features[\"coord\"].values\n",
    "unique_coords = cleaned_features[\"coord\"].unique()\n",
    "shapely_coords_unique = [Point(coord[0], coord[1]) for coord in unique_coords]\n",
    "\n",
    "coord2coord_id = {coord:i for i, coord in enumerate(cleaned_features[\"coord\"].unique())}\n",
    "# test - len(cleaned_features[\"coord\"].unique()) == len(coord2coord_id)\n",
    "\n",
    "cleaned_features[\"coord_id\"] = cleaned_features[\"coord\"].apply(lambda coord: coord2coord_id[coord])"
   ]
  },
  {
   "cell_type": "code",
   "execution_count": 13,
   "metadata": {
    "ExecuteTime": {
     "end_time": "2020-03-19T12:18:03.109402Z",
     "start_time": "2020-03-19T12:16:36.181117Z"
    }
   },
   "outputs": [
    {
     "name": "stderr",
     "output_type": "stream",
     "text": [
      "                                                                     \r"
     ]
    },
    {
     "data": {
      "application/vnd.jupyter.widget-view+json": {
       "model_id": "",
       "version_major": 2,
       "version_minor": 0
      },
      "text/plain": [
       "HBox(children=(FloatProgress(value=0.0, description='Calculating intersection', max=9.0, style=ProgressStyle(d…"
      ]
     },
     "metadata": {},
     "output_type": "display_data"
    },
    {
     "name": "stdout",
     "output_type": "stream",
     "text": [
      "\r"
     ]
    },
    {
     "data": {
      "application/vnd.jupyter.widget-view+json": {
       "model_id": "",
       "version_major": 2,
       "version_minor": 0
      },
      "text/plain": [
       "HBox(children=(FloatProgress(value=0.0, description='Calculating Features for 4034 geoms', max=34.0, style=Pro…"
      ]
     },
     "metadata": {},
     "output_type": "display_data"
    },
    {
     "name": "stderr",
     "output_type": "stream",
     "text": [
      "\r",
      "Inserting Features to building_features:   0%|          | 0/34 [00:00<?, ?feature/s]"
     ]
    },
    {
     "name": "stdout",
     "output_type": "stream",
     "text": [
      "\r"
     ]
    },
    {
     "name": "stderr",
     "output_type": "stream",
     "text": [
      "                                                                                             \r"
     ]
    }
   ],
   "source": [
    "geo_feats = create_building_features(karka_bundle_features)\n",
    "builder = FeaturesBuilder(geo_feats, cache_table=BUILDINGS_FEATURES_TABLE)\n",
    "gdf = GeoDataFrame(pd.DataFrame({'geom': shapely_coords_unique}), geometry='geom')\n",
    "geo_results_list = []\n",
    "batch_size = 10000\n",
    "n_samples = len(gdf.geometry)\n",
    "calculate_geo_features_with_batches = use_full_dataset\n",
    "if (not calculate_geo_features_with_batches) or (n_samples<=batch_size):\n",
    "    geo_results = builder.transform(gdf.geometry)\n",
    "else:\n",
    "    for batch_start_ind in range(0, n_samples, batch_size):\n",
    "        batch_end_ind = batch_start_ind+batch_size if batch_start_ind+batch_size<n_samples else n_samples\n",
    "        geo_results_list.append(builder.transform(gdf.geometry[batch_start_ind:batch_end_ind]))\n",
    "    geo_results = pd.concat(geo_results_list)\n",
    "    geo_results = geo_results.reset_index(drop=True)\n",
    "\n",
    "# print(len(geo_results[0]) + len(geo_results[0]) + len(geo_results[0]), n_samples ))"
   ]
  },
  {
   "cell_type": "code",
   "execution_count": 14,
   "metadata": {
    "ExecuteTime": {
     "end_time": "2020-03-19T12:18:03.213772Z",
     "start_time": "2020-03-19T12:18:03.111122Z"
    },
    "scrolled": true
   },
   "outputs": [],
   "source": [
    "# print(geo_results.shape[0], gdf.shape[0])\n",
    "# print(geo_results.shape[1], len(builder.all_feat_names))\n",
    "# print(\"index\" in geo_results.columns, \"coord_id\" in cleaned_features.columns)\n",
    "all_features = cleaned_features.merge(geo_results,left_on='coord_id', right_index=True, how='left')"
   ]
  },
  {
   "cell_type": "markdown",
   "metadata": {},
   "source": [
    "## fit a simple linear regression on the data"
   ]
  },
  {
   "cell_type": "code",
   "execution_count": 18,
   "metadata": {
    "ExecuteTime": {
     "end_time": "2020-03-19T14:30:43.533839Z",
     "start_time": "2020-03-19T14:30:33.618066Z"
    },
    "scrolled": false
   },
   "outputs": [
    {
     "name": "stdout",
     "output_type": "stream",
     "text": [
      "0:\tlearn: 159.3914702\ttotal: 10.9ms\tremaining: 1.63s\n",
      "1:\tlearn: 133.9659971\ttotal: 21.6ms\tremaining: 1.6s\n",
      "2:\tlearn: 123.6800959\ttotal: 31.8ms\tremaining: 1.56s\n",
      "3:\tlearn: 117.8735169\ttotal: 56.3ms\tremaining: 2.05s\n",
      "4:\tlearn: 112.5187110\ttotal: 66.9ms\tremaining: 1.94s\n",
      "5:\tlearn: 109.3993985\ttotal: 77.7ms\tremaining: 1.86s\n",
      "6:\tlearn: 106.6194170\ttotal: 89ms\tremaining: 1.82s\n",
      "7:\tlearn: 105.0817476\ttotal: 99.7ms\tremaining: 1.77s\n",
      "8:\tlearn: 103.9586299\ttotal: 111ms\tremaining: 1.73s\n",
      "9:\tlearn: 102.7758533\ttotal: 122ms\tremaining: 1.71s\n",
      "10:\tlearn: 101.8256744\ttotal: 133ms\tremaining: 1.68s\n",
      "11:\tlearn: 99.3688980\ttotal: 145ms\tremaining: 1.67s\n",
      "12:\tlearn: 98.0116059\ttotal: 163ms\tremaining: 1.72s\n",
      "13:\tlearn: 96.8390057\ttotal: 172ms\tremaining: 1.67s\n",
      "14:\tlearn: 96.2541806\ttotal: 180ms\tremaining: 1.62s\n",
      "15:\tlearn: 95.4283284\ttotal: 189ms\tremaining: 1.58s\n",
      "16:\tlearn: 94.7097625\ttotal: 196ms\tremaining: 1.54s\n",
      "17:\tlearn: 92.9934356\ttotal: 204ms\tremaining: 1.5s\n",
      "18:\tlearn: 91.9423734\ttotal: 222ms\tremaining: 1.53s\n",
      "19:\tlearn: 91.3299629\ttotal: 232ms\tremaining: 1.51s\n",
      "20:\tlearn: 90.6920004\ttotal: 240ms\tremaining: 1.47s\n",
      "21:\tlearn: 90.3670484\ttotal: 247ms\tremaining: 1.44s\n",
      "22:\tlearn: 89.8943034\ttotal: 255ms\tremaining: 1.41s\n",
      "23:\tlearn: 89.5121221\ttotal: 262ms\tremaining: 1.38s\n",
      "24:\tlearn: 89.2895260\ttotal: 269ms\tremaining: 1.35s\n",
      "25:\tlearn: 88.6630042\ttotal: 285ms\tremaining: 1.36s\n",
      "26:\tlearn: 88.4056016\ttotal: 293ms\tremaining: 1.33s\n",
      "27:\tlearn: 88.1212342\ttotal: 302ms\tremaining: 1.31s\n",
      "28:\tlearn: 87.7490019\ttotal: 310ms\tremaining: 1.29s\n",
      "29:\tlearn: 87.5805714\ttotal: 318ms\tremaining: 1.27s\n",
      "30:\tlearn: 87.2983075\ttotal: 331ms\tremaining: 1.27s\n",
      "31:\tlearn: 87.0098811\ttotal: 339ms\tremaining: 1.25s\n",
      "32:\tlearn: 86.7969258\ttotal: 347ms\tremaining: 1.23s\n",
      "33:\tlearn: 86.3547760\ttotal: 355ms\tremaining: 1.21s\n",
      "34:\tlearn: 86.1291930\ttotal: 362ms\tremaining: 1.19s\n",
      "35:\tlearn: 85.7612601\ttotal: 370ms\tremaining: 1.17s\n",
      "36:\tlearn: 85.3371406\ttotal: 377ms\tremaining: 1.15s\n",
      "37:\tlearn: 85.0790476\ttotal: 384ms\tremaining: 1.13s\n",
      "38:\tlearn: 84.5504373\ttotal: 391ms\tremaining: 1.11s\n",
      "39:\tlearn: 84.0316712\ttotal: 398ms\tremaining: 1.09s\n",
      "40:\tlearn: 83.6731281\ttotal: 405ms\tremaining: 1.08s\n",
      "41:\tlearn: 83.4658846\ttotal: 412ms\tremaining: 1.06s\n",
      "42:\tlearn: 83.1790900\ttotal: 422ms\tremaining: 1.05s\n",
      "43:\tlearn: 83.0197552\ttotal: 429ms\tremaining: 1.03s\n",
      "44:\tlearn: 82.8091254\ttotal: 436ms\tremaining: 1.02s\n",
      "45:\tlearn: 82.6616627\ttotal: 443ms\tremaining: 1s\n",
      "46:\tlearn: 82.5757474\ttotal: 451ms\tremaining: 988ms\n",
      "47:\tlearn: 82.3452654\ttotal: 458ms\tremaining: 973ms\n",
      "48:\tlearn: 82.2533776\ttotal: 465ms\tremaining: 959ms\n",
      "49:\tlearn: 82.0709617\ttotal: 472ms\tremaining: 944ms\n",
      "50:\tlearn: 81.9342362\ttotal: 479ms\tremaining: 931ms\n",
      "51:\tlearn: 81.7932499\ttotal: 487ms\tremaining: 917ms\n",
      "52:\tlearn: 81.6641681\ttotal: 494ms\tremaining: 904ms\n",
      "53:\tlearn: 81.5573157\ttotal: 501ms\tremaining: 891ms\n",
      "54:\tlearn: 81.4146998\ttotal: 509ms\tremaining: 880ms\n",
      "55:\tlearn: 81.1474230\ttotal: 517ms\tremaining: 869ms\n",
      "56:\tlearn: 81.0203056\ttotal: 525ms\tremaining: 856ms\n",
      "57:\tlearn: 80.8716836\ttotal: 532ms\tremaining: 844ms\n",
      "58:\tlearn: 80.7199451\ttotal: 540ms\tremaining: 833ms\n",
      "59:\tlearn: 80.4967232\ttotal: 548ms\tremaining: 823ms\n",
      "60:\tlearn: 80.3263239\ttotal: 561ms\tremaining: 818ms\n",
      "61:\tlearn: 80.2247899\ttotal: 568ms\tremaining: 806ms\n",
      "62:\tlearn: 80.1191305\ttotal: 575ms\tremaining: 795ms\n",
      "63:\tlearn: 80.0722385\ttotal: 583ms\tremaining: 783ms\n",
      "64:\tlearn: 79.9816192\ttotal: 590ms\tremaining: 771ms\n",
      "65:\tlearn: 79.9157159\ttotal: 597ms\tremaining: 760ms\n",
      "66:\tlearn: 79.8779182\ttotal: 604ms\tremaining: 748ms\n",
      "67:\tlearn: 79.8204309\ttotal: 611ms\tremaining: 737ms\n",
      "68:\tlearn: 79.7647068\ttotal: 620ms\tremaining: 727ms\n",
      "69:\tlearn: 79.6620455\ttotal: 627ms\tremaining: 717ms\n",
      "70:\tlearn: 79.5134653\ttotal: 635ms\tremaining: 707ms\n",
      "71:\tlearn: 79.4108138\ttotal: 645ms\tremaining: 699ms\n",
      "72:\tlearn: 79.3483715\ttotal: 653ms\tremaining: 689ms\n",
      "73:\tlearn: 79.2491617\ttotal: 661ms\tremaining: 679ms\n",
      "74:\tlearn: 79.1895695\ttotal: 669ms\tremaining: 669ms\n",
      "75:\tlearn: 79.1248783\ttotal: 677ms\tremaining: 659ms\n",
      "76:\tlearn: 79.0696712\ttotal: 684ms\tremaining: 648ms\n",
      "77:\tlearn: 78.9923955\ttotal: 692ms\tremaining: 639ms\n",
      "78:\tlearn: 78.9517702\ttotal: 699ms\tremaining: 628ms\n",
      "79:\tlearn: 78.8993355\ttotal: 707ms\tremaining: 619ms\n",
      "80:\tlearn: 78.6399604\ttotal: 715ms\tremaining: 609ms\n",
      "81:\tlearn: 78.4194544\ttotal: 723ms\tremaining: 599ms\n",
      "82:\tlearn: 78.3122971\ttotal: 731ms\tremaining: 590ms\n",
      "83:\tlearn: 78.2535859\ttotal: 738ms\tremaining: 580ms\n",
      "84:\tlearn: 78.1626068\ttotal: 746ms\tremaining: 570ms\n",
      "85:\tlearn: 78.0560643\ttotal: 753ms\tremaining: 560ms\n",
      "86:\tlearn: 78.0014386\ttotal: 760ms\tremaining: 551ms\n",
      "87:\tlearn: 77.9508440\ttotal: 768ms\tremaining: 541ms\n",
      "88:\tlearn: 77.9207050\ttotal: 776ms\tremaining: 532ms\n",
      "89:\tlearn: 77.8109528\ttotal: 783ms\tremaining: 522ms\n",
      "90:\tlearn: 77.7038057\ttotal: 795ms\tremaining: 515ms\n",
      "91:\tlearn: 77.6079108\ttotal: 805ms\tremaining: 507ms\n",
      "92:\tlearn: 77.5214740\ttotal: 816ms\tremaining: 500ms\n",
      "93:\tlearn: 77.4769631\ttotal: 826ms\tremaining: 492ms\n",
      "94:\tlearn: 77.4346291\ttotal: 834ms\tremaining: 483ms\n",
      "95:\tlearn: 77.3785508\ttotal: 842ms\tremaining: 474ms\n",
      "96:\tlearn: 77.2905024\ttotal: 848ms\tremaining: 464ms\n",
      "97:\tlearn: 77.2021843\ttotal: 855ms\tremaining: 454ms\n",
      "98:\tlearn: 77.1553999\ttotal: 863ms\tremaining: 444ms\n",
      "99:\tlearn: 77.0785920\ttotal: 870ms\tremaining: 435ms\n",
      "100:\tlearn: 77.0098097\ttotal: 878ms\tremaining: 426ms\n",
      "101:\tlearn: 76.9420621\ttotal: 886ms\tremaining: 417ms\n",
      "102:\tlearn: 76.9190488\ttotal: 894ms\tremaining: 408ms\n",
      "103:\tlearn: 76.7696361\ttotal: 902ms\tremaining: 399ms\n",
      "104:\tlearn: 76.7556444\ttotal: 909ms\tremaining: 390ms\n",
      "105:\tlearn: 76.7263906\ttotal: 917ms\tremaining: 381ms\n",
      "106:\tlearn: 76.6284297\ttotal: 925ms\tremaining: 372ms\n",
      "107:\tlearn: 76.5789233\ttotal: 932ms\tremaining: 363ms\n",
      "108:\tlearn: 76.5073522\ttotal: 943ms\tremaining: 355ms\n",
      "109:\tlearn: 76.4568163\ttotal: 956ms\tremaining: 347ms\n",
      "110:\tlearn: 76.3989627\ttotal: 966ms\tremaining: 339ms\n",
      "111:\tlearn: 76.3559288\ttotal: 977ms\tremaining: 331ms\n",
      "112:\tlearn: 76.3280444\ttotal: 985ms\tremaining: 323ms\n",
      "113:\tlearn: 76.2970536\ttotal: 992ms\tremaining: 313ms\n",
      "114:\tlearn: 76.2474305\ttotal: 999ms\tremaining: 304ms\n",
      "115:\tlearn: 76.2074306\ttotal: 1.01s\tremaining: 295ms\n",
      "116:\tlearn: 76.1660116\ttotal: 1.01s\tremaining: 286ms\n",
      "117:\tlearn: 76.1558612\ttotal: 1.02s\tremaining: 277ms\n",
      "118:\tlearn: 76.0962517\ttotal: 1.03s\tremaining: 268ms\n",
      "119:\tlearn: 76.0779911\ttotal: 1.04s\tremaining: 259ms\n",
      "120:\tlearn: 76.0418414\ttotal: 1.04s\tremaining: 250ms\n",
      "121:\tlearn: 76.0108078\ttotal: 1.05s\tremaining: 242ms\n",
      "122:\tlearn: 75.9279176\ttotal: 1.06s\tremaining: 233ms\n",
      "123:\tlearn: 75.8666146\ttotal: 1.07s\tremaining: 224ms\n",
      "124:\tlearn: 75.8593781\ttotal: 1.07s\tremaining: 215ms\n",
      "125:\tlearn: 75.8084343\ttotal: 1.08s\tremaining: 206ms\n",
      "126:\tlearn: 75.7753620\ttotal: 1.09s\tremaining: 197ms\n",
      "127:\tlearn: 75.7506303\ttotal: 1.1s\tremaining: 188ms\n",
      "128:\tlearn: 75.7007278\ttotal: 1.1s\tremaining: 180ms\n",
      "129:\tlearn: 75.6546310\ttotal: 1.11s\tremaining: 171ms\n",
      "130:\tlearn: 75.6065747\ttotal: 1.12s\tremaining: 162ms\n",
      "131:\tlearn: 75.5658566\ttotal: 1.13s\tremaining: 154ms\n",
      "132:\tlearn: 75.5334928\ttotal: 1.14s\tremaining: 145ms\n",
      "133:\tlearn: 75.4941832\ttotal: 1.15s\tremaining: 137ms\n",
      "134:\tlearn: 75.4306514\ttotal: 1.15s\tremaining: 128ms\n",
      "135:\tlearn: 75.3937615\ttotal: 1.16s\tremaining: 120ms\n",
      "136:\tlearn: 75.3602200\ttotal: 1.18s\tremaining: 112ms\n",
      "137:\tlearn: 75.3231900\ttotal: 1.18s\tremaining: 103ms\n",
      "138:\tlearn: 75.2514715\ttotal: 1.19s\tremaining: 94.4ms\n",
      "139:\tlearn: 75.2249436\ttotal: 1.2s\tremaining: 85.8ms\n",
      "140:\tlearn: 75.1962098\ttotal: 1.21s\tremaining: 77.1ms\n",
      "141:\tlearn: 75.1713463\ttotal: 1.22s\tremaining: 68.5ms\n",
      "142:\tlearn: 75.1365987\ttotal: 1.23s\tremaining: 60ms\n",
      "143:\tlearn: 75.1062218\ttotal: 1.23s\tremaining: 51.3ms\n",
      "144:\tlearn: 75.0830012\ttotal: 1.24s\tremaining: 42.8ms\n",
      "145:\tlearn: 75.0540644\ttotal: 1.25s\tremaining: 34.2ms\n",
      "146:\tlearn: 75.0316007\ttotal: 1.25s\tremaining: 25.6ms\n",
      "147:\tlearn: 74.9946298\ttotal: 1.26s\tremaining: 17.1ms\n",
      "148:\tlearn: 74.9441425\ttotal: 1.27s\tremaining: 8.53ms\n",
      "149:\tlearn: 74.9054610\ttotal: 1.28s\tremaining: 0us\n",
      "mean price -  350.4238780503106\n",
      "MSE: linear regression - 16312.02579151325, catboost - 6381.872666539636\n",
      "RMSE: linear regression - 127.71854129887818, catboost - 79.88662382739452\n"
     ]
    }
   ],
   "source": [
    "X = all_features.drop(columns=[\"coord\", \"coord_id\", \"totalPrice\"]).values\n",
    "y = all_features['totalPrice'].values\n",
    "X_train, X_test, y_train, y_test = train_test_split(X, y)\n",
    "n_cat_iter = 150\n",
    "models = [LinearRegression(),\n",
    "          CatBoostRegressor(iterations=n_cat_iter, learning_rate=1, depth=3)]\n",
    "scores = []\n",
    "for model in models:\n",
    "    model.fit(X_train, y_train)\n",
    "    y_test_pred = model.predict(X_test)\n",
    "    scores.append(mean_squared_error(y_test, y_test_pred))\n",
    "print(\"mean price - \", np.mean(y_test))\n",
    "print(f\"MSE: linear regression - {scores[0]}, catboost - {scores[1]}\")\n",
    "print(f\"RMSE: linear regression - {np.sqrt(scores[0])}, catboost - {np.sqrt(scores[1])}\")"
   ]
  },
  {
   "cell_type": "code",
   "execution_count": null,
   "metadata": {},
   "outputs": [],
   "source": []
  }
 ],
 "metadata": {
  "kernelspec": {
   "display_name": "Python [conda env:coord2vec] *",
   "language": "python",
   "name": "conda-env-coord2vec-py"
  },
  "language_info": {
   "codemirror_mode": {
    "name": "ipython",
    "version": 3
   },
   "file_extension": ".py",
   "mimetype": "text/x-python",
   "name": "python",
   "nbconvert_exporter": "python",
   "pygments_lexer": "ipython3",
   "version": "3.7.6"
  }
 },
 "nbformat": 4,
 "nbformat_minor": 4
}
