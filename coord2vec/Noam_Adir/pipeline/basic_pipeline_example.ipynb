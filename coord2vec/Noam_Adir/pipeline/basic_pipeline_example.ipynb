{
 "cells": [
  {
   "cell_type": "code",
   "execution_count": 1,
   "metadata": {
    "ExecuteTime": {
     "end_time": "2020-03-22T13:23:17.148944Z",
     "start_time": "2020-03-22T13:23:17.133703Z"
    }
   },
   "outputs": [],
   "source": [
    "%load_ext autoreload\n",
    "%autoreload 2\n",
    "\n",
    "import os,sys,inspect\n",
    "current_dir = os.path.dirname(os.path.abspath(inspect.getfile(inspect.currentframe())))\n",
    "parent_dir = os.path.dirname(os.path.dirname(os.path.dirname(current_dir)))\n",
    "sys.path.insert(0, os.path.join(parent_dir))"
   ]
  },
  {
   "cell_type": "code",
   "execution_count": 2,
   "metadata": {
    "ExecuteTime": {
     "end_time": "2020-03-22T13:23:18.459938Z",
     "start_time": "2020-03-22T13:23:17.150504Z"
    }
   },
   "outputs": [
    {
     "name": "stderr",
     "output_type": "stream",
     "text": [
      "/data/home/morpheus/coord2vec_noam/coord2vec/common/parallel/multiproc_util.py:8: TqdmExperimentalWarning: Using `tqdm.autonotebook.tqdm` in notebook mode. Use `tqdm.tqdm` instead to force console mode (e.g. in jupyter console)\n",
      "  from tqdm.autonotebook import tqdm\n"
     ]
    }
   ],
   "source": [
    "from sklearn.linear_model import LinearRegression\n",
    "from catboost import CatBoostRegressor\n",
    "\n",
    "from coord2vec.Noam_Adir.pipeline.preprocess import clean_floor_col, clean_constructionTime_col\n",
    "from coord2vec.Noam_Adir.pipeline.base_pipeline import *\n"
   ]
  },
  {
   "cell_type": "code",
   "execution_count": 3,
   "metadata": {
    "ExecuteTime": {
     "end_time": "2020-03-22T13:23:18.482860Z",
     "start_time": "2020-03-22T13:23:18.461811Z"
    }
   },
   "outputs": [],
   "source": [
    "features_bundle = karka_bundle_features\n",
    "use_full_dataset = True\n",
    "batch_size = 10000\n",
    "clean_funcs = [clean_floor_col, clean_constructionTime_col]\n",
    "n_catboost_iter = 150"
   ]
  },
  {
   "cell_type": "code",
   "execution_count": 4,
   "metadata": {
    "ExecuteTime": {
     "end_time": "2020-03-22T13:26:51.839748Z",
     "start_time": "2020-03-22T13:23:18.484311Z"
    }
   },
   "outputs": [
    {
     "name": "stderr",
     "output_type": "stream",
     "text": [
      "                                                                     \r"
     ]
    },
    {
     "name": "stdout",
     "output_type": "stream",
     "text": [
      "0:\tlearn: 159.6824271\ttotal: 55.9ms\tremaining: 8.33s\n",
      "1:\tlearn: 134.2227775\ttotal: 65.5ms\tremaining: 4.85s\n",
      "2:\tlearn: 123.8110626\ttotal: 73ms\tremaining: 3.58s\n",
      "3:\tlearn: 117.9976549\ttotal: 81.6ms\tremaining: 2.98s\n",
      "4:\tlearn: 112.6345969\ttotal: 89.4ms\tremaining: 2.59s\n",
      "5:\tlearn: 109.8588662\ttotal: 97.2ms\tremaining: 2.33s\n",
      "6:\tlearn: 107.2751621\ttotal: 110ms\tremaining: 2.26s\n",
      "7:\tlearn: 104.8525385\ttotal: 120ms\tremaining: 2.13s\n",
      "8:\tlearn: 103.3947431\ttotal: 129ms\tremaining: 2.01s\n",
      "9:\tlearn: 101.5423864\ttotal: 136ms\tremaining: 1.91s\n",
      "10:\tlearn: 100.3387667\ttotal: 145ms\tremaining: 1.83s\n",
      "11:\tlearn: 98.9953875\ttotal: 154ms\tremaining: 1.77s\n",
      "12:\tlearn: 98.5023724\ttotal: 161ms\tremaining: 1.7s\n",
      "13:\tlearn: 97.7630756\ttotal: 169ms\tremaining: 1.64s\n",
      "14:\tlearn: 96.8125634\ttotal: 178ms\tremaining: 1.6s\n",
      "15:\tlearn: 96.1000594\ttotal: 186ms\tremaining: 1.55s\n",
      "16:\tlearn: 95.7798203\ttotal: 193ms\tremaining: 1.51s\n",
      "17:\tlearn: 95.2435200\ttotal: 202ms\tremaining: 1.48s\n",
      "18:\tlearn: 93.4794491\ttotal: 212ms\tremaining: 1.46s\n",
      "19:\tlearn: 92.9841973\ttotal: 219ms\tremaining: 1.43s\n",
      "20:\tlearn: 92.7005815\ttotal: 227ms\tremaining: 1.39s\n",
      "21:\tlearn: 92.3778164\ttotal: 235ms\tremaining: 1.37s\n",
      "22:\tlearn: 91.8265167\ttotal: 243ms\tremaining: 1.34s\n",
      "23:\tlearn: 91.5013190\ttotal: 253ms\tremaining: 1.33s\n",
      "24:\tlearn: 91.1223934\ttotal: 260ms\tremaining: 1.3s\n",
      "25:\tlearn: 90.3259328\ttotal: 267ms\tremaining: 1.27s\n",
      "26:\tlearn: 90.0507788\ttotal: 274ms\tremaining: 1.25s\n",
      "27:\tlearn: 89.4635351\ttotal: 281ms\tremaining: 1.23s\n",
      "28:\tlearn: 89.1598189\ttotal: 289ms\tremaining: 1.21s\n",
      "29:\tlearn: 87.6041753\ttotal: 296ms\tremaining: 1.19s\n",
      "30:\tlearn: 87.4302883\ttotal: 303ms\tremaining: 1.16s\n",
      "31:\tlearn: 87.2208422\ttotal: 311ms\tremaining: 1.15s\n",
      "32:\tlearn: 87.0901117\ttotal: 318ms\tremaining: 1.13s\n",
      "33:\tlearn: 86.5779963\ttotal: 327ms\tremaining: 1.11s\n",
      "34:\tlearn: 86.4623255\ttotal: 335ms\tremaining: 1.1s\n",
      "35:\tlearn: 86.1067127\ttotal: 342ms\tremaining: 1.08s\n",
      "36:\tlearn: 85.7698816\ttotal: 350ms\tremaining: 1.07s\n",
      "37:\tlearn: 85.5258014\ttotal: 358ms\tremaining: 1.05s\n",
      "38:\tlearn: 85.2810188\ttotal: 365ms\tremaining: 1.04s\n",
      "39:\tlearn: 85.1203139\ttotal: 373ms\tremaining: 1.03s\n",
      "40:\tlearn: 84.4283834\ttotal: 381ms\tremaining: 1.01s\n",
      "41:\tlearn: 84.1242774\ttotal: 389ms\tremaining: 1000ms\n",
      "42:\tlearn: 83.9411706\ttotal: 397ms\tremaining: 987ms\n",
      "43:\tlearn: 83.7398546\ttotal: 404ms\tremaining: 974ms\n",
      "44:\tlearn: 83.5546035\ttotal: 413ms\tremaining: 963ms\n",
      "45:\tlearn: 83.4287314\ttotal: 420ms\tremaining: 950ms\n",
      "46:\tlearn: 83.2681223\ttotal: 427ms\tremaining: 936ms\n",
      "47:\tlearn: 83.1375668\ttotal: 435ms\tremaining: 924ms\n",
      "48:\tlearn: 83.0190017\ttotal: 443ms\tremaining: 913ms\n",
      "49:\tlearn: 82.8965001\ttotal: 454ms\tremaining: 908ms\n",
      "50:\tlearn: 82.7526396\ttotal: 461ms\tremaining: 896ms\n",
      "51:\tlearn: 82.6052744\ttotal: 470ms\tremaining: 885ms\n",
      "52:\tlearn: 82.4300997\ttotal: 480ms\tremaining: 879ms\n",
      "53:\tlearn: 82.1561852\ttotal: 489ms\tremaining: 869ms\n",
      "54:\tlearn: 82.0487616\ttotal: 496ms\tremaining: 857ms\n",
      "55:\tlearn: 81.6086246\ttotal: 504ms\tremaining: 846ms\n",
      "56:\tlearn: 81.5015867\ttotal: 511ms\tremaining: 834ms\n",
      "57:\tlearn: 81.3715738\ttotal: 528ms\tremaining: 838ms\n",
      "58:\tlearn: 81.2984997\ttotal: 537ms\tremaining: 828ms\n",
      "59:\tlearn: 81.0540933\ttotal: 544ms\tremaining: 816ms\n",
      "60:\tlearn: 80.8885259\ttotal: 552ms\tremaining: 806ms\n",
      "61:\tlearn: 80.4515615\ttotal: 560ms\tremaining: 795ms\n",
      "62:\tlearn: 80.2475132\ttotal: 568ms\tremaining: 784ms\n",
      "63:\tlearn: 80.1840903\ttotal: 575ms\tremaining: 773ms\n",
      "64:\tlearn: 79.9578027\ttotal: 584ms\tremaining: 764ms\n",
      "65:\tlearn: 79.8888671\ttotal: 591ms\tremaining: 753ms\n",
      "66:\tlearn: 79.7774158\ttotal: 599ms\tremaining: 742ms\n",
      "67:\tlearn: 79.7093097\ttotal: 606ms\tremaining: 731ms\n",
      "68:\tlearn: 79.6074830\ttotal: 616ms\tremaining: 723ms\n",
      "69:\tlearn: 79.4936799\ttotal: 623ms\tremaining: 712ms\n",
      "70:\tlearn: 79.4291041\ttotal: 635ms\tremaining: 707ms\n",
      "71:\tlearn: 79.3748042\ttotal: 646ms\tremaining: 700ms\n",
      "72:\tlearn: 79.2463505\ttotal: 659ms\tremaining: 695ms\n",
      "73:\tlearn: 79.1900866\ttotal: 670ms\tremaining: 688ms\n",
      "74:\tlearn: 79.1225507\ttotal: 680ms\tremaining: 680ms\n",
      "75:\tlearn: 79.0809754\ttotal: 689ms\tremaining: 671ms\n",
      "76:\tlearn: 79.0132206\ttotal: 696ms\tremaining: 660ms\n",
      "77:\tlearn: 78.9534872\ttotal: 704ms\tremaining: 650ms\n",
      "78:\tlearn: 78.8554751\ttotal: 712ms\tremaining: 640ms\n",
      "79:\tlearn: 78.6746761\ttotal: 719ms\tremaining: 629ms\n",
      "80:\tlearn: 78.5782240\ttotal: 726ms\tremaining: 619ms\n",
      "81:\tlearn: 78.5434383\ttotal: 734ms\tremaining: 609ms\n",
      "82:\tlearn: 78.4470492\ttotal: 741ms\tremaining: 598ms\n",
      "83:\tlearn: 78.3946195\ttotal: 749ms\tremaining: 589ms\n",
      "84:\tlearn: 78.3081079\ttotal: 756ms\tremaining: 578ms\n",
      "85:\tlearn: 78.2393732\ttotal: 764ms\tremaining: 568ms\n",
      "86:\tlearn: 78.1359608\ttotal: 771ms\tremaining: 558ms\n",
      "87:\tlearn: 78.0838743\ttotal: 778ms\tremaining: 548ms\n",
      "88:\tlearn: 78.0325410\ttotal: 786ms\tremaining: 539ms\n",
      "89:\tlearn: 77.9285560\ttotal: 794ms\tremaining: 529ms\n",
      "90:\tlearn: 77.8143776\ttotal: 801ms\tremaining: 519ms\n",
      "91:\tlearn: 77.7480474\ttotal: 811ms\tremaining: 511ms\n",
      "92:\tlearn: 77.7069325\ttotal: 818ms\tremaining: 502ms\n",
      "93:\tlearn: 77.6509282\ttotal: 827ms\tremaining: 493ms\n",
      "94:\tlearn: 77.5590373\ttotal: 834ms\tremaining: 483ms\n",
      "95:\tlearn: 77.5057541\ttotal: 843ms\tremaining: 474ms\n",
      "96:\tlearn: 77.4461393\ttotal: 850ms\tremaining: 464ms\n",
      "97:\tlearn: 77.3316539\ttotal: 861ms\tremaining: 457ms\n",
      "98:\tlearn: 77.2876016\ttotal: 870ms\tremaining: 448ms\n",
      "99:\tlearn: 77.2537351\ttotal: 877ms\tremaining: 439ms\n",
      "100:\tlearn: 77.1995461\ttotal: 885ms\tremaining: 429ms\n",
      "101:\tlearn: 77.1557279\ttotal: 893ms\tremaining: 420ms\n",
      "102:\tlearn: 77.0956072\ttotal: 900ms\tremaining: 411ms\n",
      "103:\tlearn: 77.0128222\ttotal: 907ms\tremaining: 401ms\n",
      "104:\tlearn: 76.9858024\ttotal: 916ms\tremaining: 393ms\n",
      "105:\tlearn: 76.8681709\ttotal: 924ms\tremaining: 384ms\n",
      "106:\tlearn: 76.8056129\ttotal: 931ms\tremaining: 374ms\n",
      "107:\tlearn: 76.7518626\ttotal: 939ms\tremaining: 365ms\n",
      "108:\tlearn: 76.6985612\ttotal: 946ms\tremaining: 356ms\n",
      "109:\tlearn: 76.6447602\ttotal: 953ms\tremaining: 347ms\n",
      "110:\tlearn: 76.6055321\ttotal: 961ms\tremaining: 338ms\n",
      "111:\tlearn: 76.5553050\ttotal: 968ms\tremaining: 329ms\n",
      "112:\tlearn: 76.4991477\ttotal: 976ms\tremaining: 320ms\n",
      "113:\tlearn: 76.4319352\ttotal: 984ms\tremaining: 311ms\n",
      "114:\tlearn: 76.3660786\ttotal: 992ms\tremaining: 302ms\n",
      "115:\tlearn: 76.2987546\ttotal: 1000ms\tremaining: 293ms\n",
      "116:\tlearn: 76.2590982\ttotal: 1.01s\tremaining: 285ms\n",
      "117:\tlearn: 76.1761635\ttotal: 1.02s\tremaining: 276ms\n",
      "118:\tlearn: 76.1173633\ttotal: 1.02s\tremaining: 267ms\n",
      "119:\tlearn: 76.0658151\ttotal: 1.03s\tremaining: 258ms\n",
      "120:\tlearn: 75.9521374\ttotal: 1.04s\tremaining: 249ms\n",
      "121:\tlearn: 75.9318145\ttotal: 1.05s\tremaining: 240ms\n",
      "122:\tlearn: 75.8815774\ttotal: 1.06s\tremaining: 233ms\n",
      "123:\tlearn: 75.8327989\ttotal: 1.07s\tremaining: 224ms\n",
      "124:\tlearn: 75.7623145\ttotal: 1.08s\tremaining: 215ms\n",
      "125:\tlearn: 75.7035241\ttotal: 1.08s\tremaining: 207ms\n",
      "126:\tlearn: 75.6121918\ttotal: 1.09s\tremaining: 198ms\n",
      "127:\tlearn: 75.5478376\ttotal: 1.1s\tremaining: 189ms\n",
      "128:\tlearn: 75.4956337\ttotal: 1.11s\tremaining: 180ms\n",
      "129:\tlearn: 75.4400310\ttotal: 1.12s\tremaining: 172ms\n",
      "130:\tlearn: 75.4154180\ttotal: 1.12s\tremaining: 163ms\n",
      "131:\tlearn: 75.3000307\ttotal: 1.13s\tremaining: 154ms\n",
      "132:\tlearn: 75.2759924\ttotal: 1.14s\tremaining: 146ms\n",
      "133:\tlearn: 75.2446305\ttotal: 1.15s\tremaining: 137ms\n",
      "134:\tlearn: 75.2104759\ttotal: 1.16s\tremaining: 129ms\n",
      "135:\tlearn: 75.1826245\ttotal: 1.17s\tremaining: 120ms\n",
      "136:\tlearn: 75.1403738\ttotal: 1.17s\tremaining: 111ms\n",
      "137:\tlearn: 75.1196359\ttotal: 1.18s\tremaining: 103ms\n",
      "138:\tlearn: 75.0835901\ttotal: 1.19s\tremaining: 94.1ms\n",
      "139:\tlearn: 75.0272468\ttotal: 1.2s\tremaining: 85.4ms\n",
      "140:\tlearn: 74.9758434\ttotal: 1.2s\tremaining: 76.9ms\n",
      "141:\tlearn: 74.9342446\ttotal: 1.21s\tremaining: 68.3ms\n",
      "142:\tlearn: 74.9004816\ttotal: 1.22s\tremaining: 59.7ms\n",
      "143:\tlearn: 74.8619158\ttotal: 1.23s\tremaining: 51.1ms\n",
      "144:\tlearn: 74.8155104\ttotal: 1.24s\tremaining: 42.6ms\n",
      "145:\tlearn: 74.7680079\ttotal: 1.24s\tremaining: 34.1ms\n",
      "146:\tlearn: 74.7342656\ttotal: 1.25s\tremaining: 25.5ms\n",
      "147:\tlearn: 74.6819172\ttotal: 1.26s\tremaining: 17ms\n",
      "148:\tlearn: 74.6575795\ttotal: 1.26s\tremaining: 8.5ms\n",
      "149:\tlearn: 74.6237813\ttotal: 1.27s\tremaining: 0us\n"
     ]
    }
   ],
   "source": [
    "cleaned_features = extract_and_filter_csv_data(clean_funcs, use_full_dataset=use_full_dataset)\n",
    "models = [LinearRegression(),\n",
    "          CatBoostRegressor(iterations=n_catboost_iter, learning_rate=1, depth=3)]\n",
    "all_features = extract_geographical_features(cleaned_features, batch_size=batch_size,\n",
    "                                             features_bundle=features_bundle)\n",
    "training_cache = train_models(models=models, all_features=all_features)"
   ]
  },
  {
   "cell_type": "code",
   "execution_count": 5,
   "metadata": {
    "ExecuteTime": {
     "end_time": "2020-03-22T13:26:51.862925Z",
     "start_time": "2020-03-22T13:26:51.841415Z"
    }
   },
   "outputs": [
    {
     "name": "stdout",
     "output_type": "stream",
     "text": [
      "mean price -  349.4440825544195\n",
      "MSE: linear regression - 16020.162271000494, catboost - 6351.761051874382\n",
      "RMSE: linear regression - 126.57077968868049, catboost - 79.69793630875509\n"
     ]
    }
   ],
   "source": [
    "plot_scores(training_cache)"
   ]
  }
 ],
 "metadata": {
  "kernelspec": {
   "display_name": "Python [conda env:coord2vec] *",
   "language": "python",
   "name": "conda-env-coord2vec-py"
  },
  "language_info": {
   "codemirror_mode": {
    "name": "ipython",
    "version": 3
   },
   "file_extension": ".py",
   "mimetype": "text/x-python",
   "name": "python",
   "nbconvert_exporter": "python",
   "pygments_lexer": "ipython3",
   "version": "3.7.6"
  }
 },
 "nbformat": 4,
 "nbformat_minor": 4
}
