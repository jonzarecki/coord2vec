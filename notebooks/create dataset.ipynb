{
 "cells": [
  {
   "cell_type": "code",
   "execution_count": 2,
   "metadata": {
    "ExecuteTime": {
     "end_time": "2019-12-10T15:10:55.163655Z",
     "start_time": "2019-12-10T15:10:55.132121Z"
    },
    "pycharm": {
     "is_executing": false
    }
   },
   "outputs": [
    {
     "name": "stdout",
     "text": [
      "The autoreload extension is already loaded. To reload it, use:\n",
      "  %reload_ext autoreload\n"
     ],
     "output_type": "stream"
    }
   ],
   "source": [
    "%load_ext autoreload\n",
    "%autoreload 2\n",
    "\n",
    "import inspect\n",
    "import os\n",
    "import sys\n",
    "current_dir = os.path.dirname(os.path.abspath(inspect.getfile(inspect.currentframe())))\n",
    "parent_dir = os.path.dirname(current_dir)\n",
    "sys.path.insert(0, os.path.join(parent_dir)) \n",
    "\n",
    "from coord2vec.models.data_loading.tile_features_loader import TileFeaturesDataset\n",
    "from coord2vec.config import *\n",
    "import matplotlib.pyplot as plt\n",
    "\n",
    "from coord2vec.models.data_loading.create_dataset_script import sample_and_save_dataset\n"
   ]
  },
  {
   "cell_type": "code",
   "execution_count": 3,
   "metadata": {
    "ExecuteTime": {
     "end_time": "2019-12-10T15:10:55.393217Z",
     "start_time": "2019-12-10T15:10:55.367201Z"
    },
    "pycharm": {
     "is_executing": false
    }
   },
   "outputs": [],
   "source": [
    "CACHE_DIR = os.path.join(LONG_TERM_DIR, \"cache_data\", \"build_road_park_multi_with_norm\")\n",
    "# CACHE_DIR = os.path.join(\"/media/yonatanz/yz\", \"cache_data\", \"test_fit_large_multi_build\")\n",
    "# CACHE_DIR = '../coord2vec_data/house_price_builder'\n",
    "TRAIN_CACHE_DIR = os.path.join(CACHE_DIR, 'train')\n",
    "VAL_CACHE_DIR = os.path.join(CACHE_DIR, 'validation')"
   ]
  },
  {
   "cell_type": "code",
   "execution_count": null,
   "metadata": {
    "ExecuteTime": {
     "end_time": "2019-12-10T15:11:09.408666Z",
     "start_time": "2019-12-10T15:11:08.081280Z"
    },
    "pycharm": {
     "is_executing": true,
     "name": "#%%\n"
    }
   },
   "outputs": [
    {
     "name": "stdout",
     "text": [
      "Building dataset for /media/yonatanz/yz/cache_data/build_road_park_multi_with_norm/validation\n",
      "\n",
      "Calculating features:   \n",
      "Calculation took 0.3186767101287842\n",
      "\n",
      "Building dataset for /media/yonatanz/yz/cache_data/build_road_park_multi_with_norm/train\n",
      "request failed [?]: http://localhost:8103/tile/17/78100/53406.png\n",
      "request failed [?]: http://localhost:8101/tile/17/78115/53435.png\n",
      "request failed [?]: http://localhost:8101/tile/17/78120/53416.png\n",
      "request failed [?]: http://localhost:8101/tile/17/78123/53435.png\n",
      "request failed [?]: http://localhost:8101/tile/17/78121/53416.png\n",
      "request failed [?]: http://localhost:8101/tile/17/78121/53417.png\n",
      "request failed [?]: http://localhost:8101/tile/17/78123/53421.png\n",
      "request failed [?]: http://localhost:8103/tile/17/78113/53412.png\n",
      "request failed [?]: http://localhost:8101/tile/17/78123/53436.png\n",
      "request failed [?]: http://localhost:8101/tile/17/78120/53436.png\n",
      "request failed [?]: http://localhost:8101/tile/17/78109/53430.png\n",
      "request failed [?]: http://localhost:8102/tile/17/78122/53433.png\n",
      "request failed [?]: http://localhost:8101/tile/17/78123/53422.png\n",
      "request failed [?]: http://localhost:8101/tile/17/78116/53434.png\n",
      "request failed [?]: http://localhost:8102/tile/17/78108/53425.png\n",
      "request failed [?]: http://localhost:8101/tile/17/78110/53429.png\n",
      "request failed [?]: http://localhost:8102/tile/17/78109/53424.png\n",
      "request failed [?]: http://localhost:8102/tile/17/78117/53416.png\n",
      "request failed [?]: http://localhost:8101/tile/17/78124/53421.png\n",
      "request failed [?]: http://localhost:8101/tile/17/78121/53436.png\n",
      "request failed [?]: http://localhost:8102/tile/17/78109/53425.png\n",
      "request failed [?]: http://localhost:8101/tile/17/78105/53406.png\n",
      "request failed [?]: http://localhost:8101/tile/17/78116/53435.png\n",
      "request failed [?]: http://localhost:8102/tile/17/78096/53433.png\n",
      "request failed [?]: http://localhost:8101/tile/17/78105/53407.png\n",
      "request failed [?]: http://localhost:8102/tile/17/78123/53432.png\n",
      "request failed [?]: http://localhost:8103/tile/17/78113/53413.png\n",
      "request failed [?]: http://localhost:8102/tile/17/78096/53434.png\n",
      "request failed [?]: http://localhost:8101/tile/17/78124/53422.png\n"
     ],
     "output_type": "stream"
    },
    {
     "data": {
      "text/plain": "HBox(children=(IntProgress(value=0, description='Building image dataset', max=5000, style=ProgressStyle(descri…",
      "application/vnd.jupyter.widget-view+json": {
       "version_major": 2,
       "version_minor": 0,
       "model_id": "969715b1b5464bc0bc7331bb9e80c16c"
      }
     },
     "metadata": {},
     "output_type": "display_data"
    },
    {
     "data": {
      "text/plain": "HBox(children=(IntProgress(value=0, description='Calculating features', max=9, style=ProgressStyle(description…",
      "application/vnd.jupyter.widget-view+json": {
       "version_major": 2,
       "version_minor": 0,
       "model_id": "a59fc4cb67304f158942c9bf51770ca1"
      }
     },
     "metadata": {},
     "output_type": "display_data"
    },
    {
     "data": {
      "text/plain": "HBox(children=(IntProgress(value=0, description='Writing back features', max=5000, style=ProgressStyle(descrip…",
      "application/vnd.jupyter.widget-view+json": {
       "version_major": 2,
       "version_minor": 0,
       "model_id": "d5f8bc48d72c456690fb701cd08c0642"
      }
     },
     "metadata": {},
     "output_type": "display_data"
    },
    {
     "data": {
      "text/plain": "HBox(children=(IntProgress(value=0, description='Building image dataset', max=50000, style=ProgressStyle(descr…",
      "application/vnd.jupyter.widget-view+json": {
       "version_major": 2,
       "version_minor": 0,
       "model_id": "4695129006994dddb23f05c99a17e964"
      }
     },
     "metadata": {},
     "output_type": "display_data"
    }
   ],
   "source": [
    "\n",
    "sample_and_save_dataset(VAL_CACHE_DIR, sample_num=VAL_SAMPLE_NUM, feature_builder=get_builder(),\n",
    "                        use_existing=True)\n",
    "sample_and_save_dataset(TRAIN_CACHE_DIR, sample_num=TRAIN_SAMPLE_NUM, feature_builder=get_builder(),\n",
    "                        use_existing=True)\n",
    "\n",
    "\n",
    "builder = get_builder()\n",
    "\n",
    "train_dataset = TileFeaturesDataset(TRAIN_CACHE_DIR, builder)\n",
    "val_dataset = TileFeaturesDataset(VAL_CACHE_DIR, builder)\n",
    "\n",
    "\n",
    "sample_ind = 3\n",
    "\n",
    "fig, axs = plt.subplots(1, 3, figsize=(9, 3))\n",
    "axs[0].imshow(train_dataset[sample_ind][0][0])\n",
    "axs[1].imshow(train_dataset[sample_ind][0][1])\n",
    "axs[2].imshow(train_dataset[sample_ind][0][2])\n",
    "fig.suptitle('Image channels')\n",
    "plt.show()\n",
    "\n",
    "features = [feature.feature_names for feature in builder.features]\n",
    "print(list(zip(features, train_dataset[sample_ind][1])))"
   ]
  },
  {
   "cell_type": "code",
   "execution_count": null,
   "outputs": [],
   "source": [
    "\n"
   ],
   "metadata": {
    "collapsed": false,
    "pycharm": {
     "name": "#%%\n"
    }
   }
  }
 ],
 "metadata": {
  "kernelspec": {
   "name": "conda-env-coord2vec-py",
   "language": "python",
   "display_name": "Python [conda env:coord2vec] *"
  },
  "language_info": {
   "codemirror_mode": {
    "name": "ipython",
    "version": 3
   },
   "file_extension": ".py",
   "mimetype": "text/x-python",
   "name": "python",
   "nbconvert_exporter": "python",
   "pygments_lexer": "ipython3",
   "version": "3.6.7"
  },
  "pycharm": {
   "stem_cell": {
    "cell_type": "raw",
    "source": [],
    "metadata": {
     "collapsed": false
    }
   }
  }
 },
 "nbformat": 4,
 "nbformat_minor": 2
}