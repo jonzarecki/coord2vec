{
 "cells": [
  {
   "cell_type": "code",
   "execution_count": 4,
   "metadata": {
    "ExecuteTime": {
     "end_time": "2019-07-25T13:24:11.904615Z",
     "start_time": "2019-07-25T13:24:11.237530Z"
    },
    "pycharm": {
     "is_executing": false
    }
   },
   "outputs": [
    {
     "name": "stdout",
     "text": [
      "The autoreload extension is already loaded. To reload it, use:\n  %reload_ext autoreload\n"
     ],
     "output_type": "stream"
    }
   ],
   "source": [
    "%load_ext autoreload\n",
    "%autoreload 2\n",
    "\n",
    "import os,sys,inspect\n",
    "current_dir = os.path.dirname(os.path.abspath(inspect.getfile(inspect.currentframe())))\n",
    "parent_dir = os.path.dirname(current_dir)\n",
    "sys.path.insert(0, os.path.join(parent_dir)) \n",
    "\n",
    "import numpy as np\n",
    "import pandas as pd\n",
    "\n",
    "from coord2vec.models.data_loading.tile_features_loader import TileFeaturesDataset\n",
    "from coord2vec.models.model_utils import get_data_loader, get_pytorch_dataset\n",
    "from coord2vec.feature_extraction.features_builders import house_price_builder\n",
    "\n",
    "from coord2vec.config import CACHE_DIR"
   ]
  },
  {
   "cell_type": "code",
   "execution_count": 5,
   "metadata": {
    "ExecuteTime": {
     "end_time": "2019-07-25T13:25:06.708826Z",
     "start_time": "2019-07-25T13:25:06.384366Z"
    },
    "pycharm": {
     "is_executing": false
    }
   },
   "outputs": [
    {
     "data": {
      "text/plain": "<Figure size 640x480 with 1 Axes>"
     },
     "metadata": {},
     "output_type": "display_data"
    },
    {
     "data": {
      "text/plain": "<Figure size 640x480 with 1 Axes>"
     },
     "metadata": {},
     "output_type": "display_data"
    }
   ],
   "source": [
    "import matplotlib.pyplot as plt\n",
    "\n",
    "dataset = TileFeaturesDataset(CACHE_DIR)\n",
    "\n",
    "sample_ind = 8\n",
    "plt.imshow(dataset[sample_ind][0][0])\n",
    "plt.show()\n",
    "\n",
    "plt.imshow(dataset[sample_ind][0][1])\n",
    "plt.show()"
   ]
  },
  {
   "cell_type": "code",
   "execution_count": 6,
   "metadata": {
    "ExecuteTime": {
     "end_time": "2019-07-25T13:24:46.080707Z",
     "start_time": "2019-07-25T13:24:43.372722Z"
    }
   },
   "outputs": [],
   "source": [
    "from coord2vec.models.baselines import Coord2Vec\n",
    "\n",
    "coord2vec = Coord2Vec(house_price_builder, n_channels=3 , tb_dir='house_pricing')\n",
    "coord2vec.fit(dataset, epochs=20, batch_size=64)\n",
    "pass"
   ]
  },
  {
   "cell_type": "code",
   "execution_count": 5,
   "metadata": {
    "ExecuteTime": {
     "end_time": "2019-07-22T06:24:15.907797Z",
     "start_time": "2019-07-22T06:24:15.480910Z"
    }
   },
   "outputs": [],
   "source": [
    "path = r'../coord2vec/models/saved_models/first_model.pt'\n",
    "coord2vec.save_trained_model(path)"
   ]
  },
  {
   "cell_type": "markdown",
   "metadata": {},
   "source": [
    "### Try to fit the network for each feature individualy"
   ]
  },
  {
   "cell_type": "code",
   "execution_count": 7,
   "metadata": {
    "ExecuteTime": {
     "end_time": "2019-07-22T06:47:41.823884Z",
     "start_time": "2019-07-22T06:26:33.207735Z"
    }
   },
   "outputs": [
    {
     "name": "stderr",
     "output_type": "stream",
     "text": [
      "\n",
      "Epochs:   0%|          | 0/20 [00:00<?, ?epoch/s]\u001b[A\n",
      "Epochs:   5%|▌         | 1/20 [00:06<02:11,  6.94s/epoch]\u001b[A\n",
      "Epochs:  10%|█         | 2/20 [00:14<02:09,  7.22s/epoch]\u001b[A\n",
      "Epochs:  15%|█▌        | 3/20 [00:22<02:05,  7.35s/epoch]\u001b[A\n",
      "Epochs:  20%|██        | 4/20 [00:29<01:55,  7.20s/epoch]\u001b[A\n",
      "Epochs:  25%|██▌       | 5/20 [00:36<01:46,  7.09s/epoch]\u001b[A\n",
      "Epochs:  30%|███       | 6/20 [00:42<01:38,  7.00s/epoch]\u001b[A\n",
      "Epochs:  35%|███▌      | 7/20 [00:49<01:30,  6.96s/epoch]\u001b[A\n",
      "Epochs:  40%|████      | 8/20 [00:56<01:23,  6.97s/epoch]\u001b[A\n",
      "Epochs:  45%|████▌     | 9/20 [01:03<01:16,  7.00s/epoch]\u001b[A\n",
      "Epochs:  50%|█████     | 10/20 [01:10<01:09,  6.99s/epoch]\u001b[A\n",
      "Epochs:  55%|█████▌    | 11/20 [01:17<01:03,  7.00s/epoch]\u001b[A\n",
      "Epochs:  60%|██████    | 12/20 [01:24<00:56,  7.02s/epoch]\u001b[A\n",
      "Epochs:  65%|██████▌   | 13/20 [01:31<00:48,  7.00s/epoch]\u001b[A\n",
      "Epochs:  70%|███████   | 14/20 [01:38<00:42,  7.00s/epoch]\u001b[A\n",
      "Epochs:  75%|███████▌  | 15/20 [01:45<00:34,  6.97s/epoch]\u001b[A\n",
      "Epochs:  80%|████████  | 16/20 [01:52<00:27,  6.97s/epoch]\u001b[A\n",
      "Epochs:  85%|████████▌ | 17/20 [01:59<00:20,  6.92s/epoch]\u001b[A\n",
      "Epochs:  90%|█████████ | 18/20 [02:06<00:13,  6.93s/epoch]\u001b[A\n",
      "Epochs:  95%|█████████▌| 19/20 [02:13<00:06,  6.85s/epoch]\u001b[A\n",
      "Epochs: 100%|██████████| 20/20 [02:20<00:00,  6.85s/epoch]\u001b[A\n",
      "Epochs:   0%|          | 0/20 [00:00<?, ?epoch/s]\u001b[A\n",
      "Epochs:   5%|▌         | 1/20 [00:06<02:12,  6.97s/epoch]\u001b[A\n",
      "Epochs:  10%|█         | 2/20 [00:14<02:05,  7.00s/epoch]\u001b[A\n",
      "Epochs:  15%|█▌        | 3/20 [00:20<01:57,  6.90s/epoch]\u001b[A\n",
      "Epochs:  20%|██        | 4/20 [00:27<01:51,  6.95s/epoch]\u001b[A\n",
      "Epochs:  25%|██▌       | 5/20 [00:34<01:44,  6.96s/epoch]\u001b[A\n",
      "Epochs:  30%|███       | 6/20 [00:41<01:37,  6.98s/epoch]\u001b[A\n",
      "Epochs:  35%|███▌      | 7/20 [00:48<01:31,  7.00s/epoch]\u001b[A\n",
      "Epochs:  40%|████      | 8/20 [00:55<01:23,  7.00s/epoch]\u001b[A\n",
      "Epochs:  45%|████▌     | 9/20 [01:02<01:16,  6.95s/epoch]\u001b[A\n",
      "Epochs:  50%|█████     | 10/20 [01:09<01:09,  6.92s/epoch]\u001b[A\n",
      "Epochs:  55%|█████▌    | 11/20 [01:16<01:02,  6.96s/epoch]\u001b[A\n",
      "Epochs:  60%|██████    | 12/20 [01:23<00:55,  6.92s/epoch]\u001b[A\n",
      "Epochs:  65%|██████▌   | 13/20 [01:30<00:48,  6.95s/epoch]\u001b[A\n",
      "Epochs:  70%|███████   | 14/20 [01:37<00:41,  6.96s/epoch]\u001b[A\n",
      "Epochs:  75%|███████▌  | 15/20 [01:44<00:34,  6.99s/epoch]\u001b[A\n",
      "Epochs:  80%|████████  | 16/20 [01:51<00:27,  6.91s/epoch]\u001b[A\n",
      "Epochs:  85%|████████▌ | 17/20 [01:58<00:20,  6.95s/epoch]\u001b[A\n",
      "Epochs:  90%|█████████ | 18/20 [02:05<00:13,  6.95s/epoch]\u001b[A\n",
      "Epochs:  95%|█████████▌| 19/20 [02:12<00:06,  6.98s/epoch]\u001b[A\n",
      "Epochs: 100%|██████████| 20/20 [02:19<00:00,  6.98s/epoch]\u001b[A\n",
      "Epochs:   0%|          | 0/20 [00:00<?, ?epoch/s]\u001b[A\n",
      "Epochs:   5%|▌         | 1/20 [00:07<02:14,  7.08s/epoch]\u001b[A\n",
      "Epochs:  10%|█         | 2/20 [00:14<02:07,  7.08s/epoch]\u001b[A\n",
      "Epochs:  15%|█▌        | 3/20 [00:21<02:00,  7.07s/epoch]\u001b[A\n",
      "Epochs:  20%|██        | 4/20 [00:28<01:53,  7.07s/epoch]\u001b[A\n",
      "Epochs:  25%|██▌       | 5/20 [00:35<01:44,  6.99s/epoch]\u001b[A\n",
      "Epochs:  30%|███       | 6/20 [00:42<01:38,  7.01s/epoch]\u001b[A\n",
      "Epochs:  35%|███▌      | 7/20 [00:49<01:31,  7.02s/epoch]\u001b[A\n",
      "Epochs:  40%|████      | 8/20 [00:56<01:24,  7.02s/epoch]\u001b[A\n",
      "Epochs:  45%|████▌     | 9/20 [01:03<01:17,  7.02s/epoch]\u001b[A\n",
      "Epochs:  50%|█████     | 10/20 [01:10<01:09,  6.98s/epoch]\u001b[A\n",
      "Epochs:  55%|█████▌    | 11/20 [01:17<01:03,  7.01s/epoch]\u001b[A\n",
      "Epochs:  60%|██████    | 12/20 [01:24<00:56,  7.04s/epoch]\u001b[A\n",
      "Epochs:  65%|██████▌   | 13/20 [01:31<00:49,  7.06s/epoch]\u001b[A\n",
      "Epochs:  70%|███████   | 14/20 [01:38<00:42,  7.05s/epoch]\u001b[A\n",
      "Epochs:  75%|███████▌  | 15/20 [01:45<00:35,  7.04s/epoch]\u001b[A\n",
      "Epochs:  80%|████████  | 16/20 [01:52<00:28,  7.03s/epoch]\u001b[A\n",
      "Epochs:  85%|████████▌ | 17/20 [02:00<00:21,  7.33s/epoch]\u001b[A\n",
      "Epochs:  90%|█████████ | 18/20 [02:07<00:14,  7.24s/epoch]\u001b[A\n",
      "Epochs:  95%|█████████▌| 19/20 [02:14<00:07,  7.16s/epoch]\u001b[A\n",
      "Epochs: 100%|██████████| 20/20 [02:21<00:00,  7.14s/epoch]\u001b[A\n",
      "Epochs:   0%|          | 0/20 [00:00<?, ?epoch/s]\u001b[A\n",
      "Epochs:   5%|▌         | 1/20 [00:07<02:15,  7.14s/epoch]\u001b[A\n",
      "Epochs:  10%|█         | 2/20 [00:14<02:08,  7.12s/epoch]\u001b[A\n",
      "Epochs:  15%|█▌        | 3/20 [00:21<02:00,  7.10s/epoch]\u001b[A\n",
      "Epochs:  20%|██        | 4/20 [00:28<01:52,  7.02s/epoch]\u001b[A\n",
      "Epochs:  25%|██▌       | 5/20 [00:35<01:45,  7.03s/epoch]\u001b[A\n",
      "Epochs:  30%|███       | 6/20 [00:41<01:37,  6.96s/epoch]\u001b[A\n",
      "Epochs:  35%|███▌      | 7/20 [00:48<01:30,  6.97s/epoch]\u001b[A\n",
      "Epochs:  40%|████      | 8/20 [00:55<01:23,  6.98s/epoch]\u001b[A\n",
      "Epochs:  45%|████▌     | 9/20 [01:03<01:17,  7.01s/epoch]\u001b[A\n",
      "Epochs:  50%|█████     | 10/20 [01:09<01:09,  6.95s/epoch]\u001b[A\n",
      "Epochs:  55%|█████▌    | 11/20 [01:16<01:02,  6.98s/epoch]\u001b[A\n",
      "Epochs:  60%|██████    | 12/20 [01:23<00:55,  6.98s/epoch]\u001b[A\n",
      "Epochs:  65%|██████▌   | 13/20 [01:30<00:48,  6.98s/epoch]\u001b[A\n",
      "Epochs:  70%|███████   | 14/20 [01:43<00:52,  8.80s/epoch]\u001b[A\n",
      "Epochs:  75%|███████▌  | 15/20 [01:50<00:41,  8.27s/epoch]\u001b[A\n",
      "Epochs:  80%|████████  | 16/20 [01:57<00:31,  7.87s/epoch]\u001b[A\n",
      "Epochs:  85%|████████▌ | 17/20 [02:04<00:22,  7.63s/epoch]\u001b[A\n",
      "Epochs:  90%|█████████ | 18/20 [02:11<00:14,  7.44s/epoch]\u001b[A\n",
      "Epochs:  95%|█████████▌| 19/20 [02:18<00:07,  7.32s/epoch]\u001b[A\n",
      "Epochs: 100%|██████████| 20/20 [02:26<00:00,  7.25s/epoch]\u001b[A\n",
      "Epochs:   0%|          | 0/20 [00:00<?, ?epoch/s]\u001b[A\n",
      "Epochs:   5%|▌         | 1/20 [00:06<02:12,  6.99s/epoch]\u001b[A\n",
      "Epochs:  10%|█         | 2/20 [00:13<02:04,  6.93s/epoch]\u001b[A\n",
      "Epochs:  15%|█▌        | 3/20 [00:20<01:57,  6.94s/epoch]\u001b[A\n",
      "Epochs:  20%|██        | 4/20 [00:27<01:51,  6.96s/epoch]\u001b[A\n",
      "Epochs:  25%|██▌       | 5/20 [00:34<01:44,  6.99s/epoch]\u001b[A\n",
      "Epochs:  30%|███       | 6/20 [00:41<01:37,  6.94s/epoch]\u001b[A\n",
      "Epochs:  35%|███▌      | 7/20 [00:48<01:30,  6.99s/epoch]\u001b[A\n",
      "Epochs:  40%|████      | 8/20 [00:55<01:24,  7.02s/epoch]\u001b[A\n",
      "Epochs:  45%|████▌     | 9/20 [01:02<01:16,  6.96s/epoch]\u001b[A\n",
      "Epochs:  50%|█████     | 10/20 [01:09<01:09,  6.94s/epoch]\u001b[A\n",
      "Epochs:  55%|█████▌    | 11/20 [01:16<01:02,  6.98s/epoch]\u001b[A\n",
      "Epochs:  60%|██████    | 12/20 [01:23<00:55,  6.96s/epoch]\u001b[A\n",
      "Epochs:  65%|██████▌   | 13/20 [01:30<00:49,  7.00s/epoch]\u001b[A\n",
      "Epochs:  70%|███████   | 14/20 [01:37<00:42,  7.04s/epoch]\u001b[A\n",
      "Epochs:  75%|███████▌  | 15/20 [01:44<00:34,  6.98s/epoch]\u001b[A\n",
      "Epochs:  80%|████████  | 16/20 [01:51<00:28,  7.02s/epoch]\u001b[A\n",
      "Epochs:  85%|████████▌ | 17/20 [01:58<00:21,  7.04s/epoch]\u001b[A\n",
      "Epochs:  90%|█████████ | 18/20 [02:05<00:14,  7.03s/epoch]\u001b[A\n",
      "Epochs:  95%|█████████▌| 19/20 [02:12<00:06,  6.98s/epoch]\u001b[A\n",
      "Epochs: 100%|██████████| 20/20 [02:19<00:00,  7.02s/epoch]\u001b[A\n",
      "Epochs:   0%|          | 0/20 [00:00<?, ?epoch/s]\u001b[A\n",
      "Epochs:   5%|▌         | 1/20 [00:06<02:12,  7.00s/epoch]\u001b[A\n",
      "Epochs:  10%|█         | 2/20 [00:13<02:05,  6.97s/epoch]\u001b[A\n",
      "Epochs:  15%|█▌        | 3/20 [00:20<01:58,  6.98s/epoch]\u001b[A\n",
      "Epochs:  20%|██        | 4/20 [00:27<01:52,  7.01s/epoch]\u001b[A\n",
      "Epochs:  25%|██▌       | 5/20 [00:34<01:45,  7.00s/epoch]\u001b[A\n",
      "Epochs:  30%|███       | 6/20 [00:41<01:37,  6.94s/epoch]\u001b[A\n",
      "Epochs:  35%|███▌      | 7/20 [00:48<01:30,  6.95s/epoch]\u001b[A\n",
      "Epochs:  40%|████      | 8/20 [00:55<01:23,  6.94s/epoch]\u001b[A\n",
      "Epochs:  45%|████▌     | 9/20 [01:02<01:16,  6.96s/epoch]\u001b[A\n",
      "Epochs:  50%|█████     | 10/20 [01:09<01:09,  6.97s/epoch]\u001b[A\n",
      "Epochs:  55%|█████▌    | 11/20 [01:16<01:02,  6.97s/epoch]\u001b[A\n",
      "Epochs:  60%|██████    | 12/20 [01:23<00:55,  6.94s/epoch]\u001b[A\n",
      "Epochs:  65%|██████▌   | 13/20 [01:30<00:48,  6.97s/epoch]\u001b[A\n",
      "Epochs:  70%|███████   | 14/20 [01:37<00:41,  6.98s/epoch]\u001b[A\n",
      "Epochs:  75%|███████▌  | 15/20 [01:44<00:34,  6.98s/epoch]\u001b[A\n",
      "Epochs:  80%|████████  | 16/20 [01:51<00:27,  6.99s/epoch]\u001b[A\n",
      "Epochs:  85%|████████▌ | 17/20 [01:58<00:20,  6.99s/epoch]\u001b[A\n",
      "Epochs:  90%|█████████ | 18/20 [02:05<00:13,  6.99s/epoch]\u001b[A\n",
      "Epochs:  95%|█████████▌| 19/20 [02:12<00:06,  6.98s/epoch]\u001b[A\n",
      "Epochs: 100%|██████████| 20/20 [02:19<00:00,  6.96s/epoch]\u001b[A\n",
      "Epochs:   0%|          | 0/20 [00:00<?, ?epoch/s]\u001b[A\n",
      "Epochs:   5%|▌         | 1/20 [00:06<02:11,  6.92s/epoch]\u001b[A\n",
      "Epochs:  10%|█         | 2/20 [00:13<02:05,  6.96s/epoch]\u001b[A\n",
      "Epochs:  15%|█▌        | 3/20 [00:21<01:59,  7.00s/epoch]\u001b[A\n",
      "Epochs:  20%|██        | 4/20 [00:28<01:52,  7.00s/epoch]\u001b[A\n",
      "Epochs:  25%|██▌       | 5/20 [00:34<01:44,  6.96s/epoch]\u001b[A\n",
      "Epochs:  30%|███       | 6/20 [00:42<01:37,  6.99s/epoch]\u001b[A\n",
      "Epochs:  35%|███▌      | 7/20 [00:48<01:30,  6.97s/epoch]\u001b[A\n",
      "Epochs:  40%|████      | 8/20 [00:55<01:23,  6.98s/epoch]\u001b[A\n",
      "Epochs:  45%|████▌     | 9/20 [01:03<01:17,  7.02s/epoch]\u001b[A\n",
      "Epochs:  50%|█████     | 10/20 [01:10<01:10,  7.03s/epoch]\u001b[A\n",
      "Epochs:  55%|█████▌    | 11/20 [01:17<01:03,  7.05s/epoch]\u001b[A\n",
      "Epochs:  60%|██████    | 12/20 [01:24<00:56,  7.07s/epoch]\u001b[A\n",
      "Epochs:  65%|██████▌   | 13/20 [01:31<00:49,  7.04s/epoch]\u001b[A\n",
      "Epochs:  70%|███████   | 14/20 [01:38<00:41,  6.96s/epoch]\u001b[A\n",
      "Epochs:  75%|███████▌  | 15/20 [01:45<00:34,  7.00s/epoch]\u001b[A\n",
      "Epochs:  80%|████████  | 16/20 [01:52<00:28,  7.00s/epoch]\u001b[A\n",
      "Epochs:  85%|████████▌ | 17/20 [01:59<00:21,  7.03s/epoch]\u001b[A\n",
      "Epochs:  90%|█████████ | 18/20 [02:06<00:13,  6.98s/epoch]\u001b[A\n",
      "Epochs:  95%|█████████▌| 19/20 [02:13<00:07,  7.02s/epoch]\u001b[A\n",
      "Epochs: 100%|██████████| 20/20 [02:20<00:00,  7.03s/epoch]\u001b[A\n",
      "Epochs:   0%|          | 0/20 [00:00<?, ?epoch/s]\u001b[A\n",
      "Epochs:   5%|▌         | 1/20 [00:06<02:12,  6.99s/epoch]\u001b[A\n",
      "Epochs:  10%|█         | 2/20 [00:14<02:06,  7.01s/epoch]\u001b[A\n",
      "Epochs:  15%|█▌        | 3/20 [00:21<01:59,  7.04s/epoch]\u001b[A\n",
      "Epochs:  20%|██        | 4/20 [00:28<01:52,  7.06s/epoch]\u001b[A\n",
      "Epochs:  25%|██▌       | 5/20 [00:35<01:46,  7.07s/epoch]\u001b[A\n",
      "Epochs:  30%|███       | 6/20 [00:42<01:38,  7.04s/epoch]\u001b[A\n",
      "Epochs:  35%|███▌      | 7/20 [00:49<01:30,  6.98s/epoch]\u001b[A\n",
      "Epochs:  40%|████      | 8/20 [00:56<01:23,  6.98s/epoch]\u001b[A\n",
      "Epochs:  45%|████▌     | 9/20 [01:03<01:16,  6.96s/epoch]\u001b[A\n",
      "Epochs:  50%|█████     | 10/20 [01:10<01:09,  7.00s/epoch]\u001b[A\n",
      "Epochs:  55%|█████▌    | 11/20 [01:16<01:02,  6.93s/epoch]\u001b[A\n",
      "Epochs:  60%|██████    | 12/20 [01:23<00:55,  6.96s/epoch]\u001b[A\n",
      "Epochs:  65%|██████▌   | 13/20 [01:31<00:49,  7.00s/epoch]\u001b[A\n",
      "Epochs:  70%|███████   | 14/20 [01:38<00:42,  7.03s/epoch]\u001b[A\n",
      "Epochs:  75%|███████▌  | 15/20 [01:44<00:34,  6.97s/epoch]\u001b[A\n",
      "Epochs:  80%|████████  | 16/20 [01:51<00:27,  6.97s/epoch]\u001b[A\n",
      "Epochs:  85%|████████▌ | 17/20 [01:58<00:20,  6.98s/epoch]\u001b[A\n",
      "Epochs:  90%|█████████ | 18/20 [02:05<00:13,  6.99s/epoch]\u001b[A\n",
      "Epochs:  95%|█████████▌| 19/20 [02:12<00:06,  6.97s/epoch]\u001b[A\n",
      "Epochs: 100%|██████████| 20/20 [02:19<00:00,  7.01s/epoch]\u001b[A\n",
      "Epochs:   0%|          | 0/20 [00:00<?, ?epoch/s]\u001b[A\n",
      "Epochs:   5%|▌         | 1/20 [00:07<02:13,  7.00s/epoch]\u001b[A\n",
      "Epochs:  10%|█         | 2/20 [00:13<02:05,  6.98s/epoch]\u001b[A\n",
      "Epochs:  15%|█▌        | 3/20 [00:21<01:59,  7.02s/epoch]\u001b[A\n",
      "Epochs:  20%|██        | 4/20 [00:28<01:52,  7.01s/epoch]\u001b[A\n",
      "Epochs:  25%|██▌       | 5/20 [00:35<01:45,  7.01s/epoch]\u001b[A\n",
      "Epochs:  30%|███       | 6/20 [00:42<01:38,  7.01s/epoch]\u001b[A\n",
      "Epochs:  35%|███▌      | 7/20 [00:48<01:30,  6.99s/epoch]\u001b[A\n",
      "Epochs:  40%|████      | 8/20 [00:55<01:23,  6.99s/epoch]\u001b[A\n",
      "Epochs:  45%|████▌     | 9/20 [01:02<01:16,  6.99s/epoch]\u001b[A\n",
      "Epochs:  50%|█████     | 10/20 [01:10<01:10,  7.00s/epoch]\u001b[A\n",
      "Epochs:  55%|█████▌    | 11/20 [01:16<01:02,  6.96s/epoch]\u001b[A\n",
      "Epochs:  60%|██████    | 12/20 [01:23<00:55,  6.95s/epoch]\u001b[A\n",
      "Epochs:  65%|██████▌   | 13/20 [01:30<00:48,  6.98s/epoch]\u001b[A\n",
      "Epochs:  70%|███████   | 14/20 [01:37<00:41,  7.00s/epoch]\u001b[A\n",
      "Epochs:  75%|███████▌  | 15/20 [01:44<00:35,  7.03s/epoch]\u001b[A\n",
      "Epochs:  80%|████████  | 16/20 [01:51<00:27,  6.99s/epoch]\u001b[A\n",
      "Epochs:  85%|████████▌ | 17/20 [01:58<00:20,  7.00s/epoch]\u001b[A\n",
      "Epochs:  90%|█████████ | 18/20 [02:05<00:14,  7.02s/epoch]\u001b[A\n",
      "Epochs:  95%|█████████▌| 19/20 [02:13<00:07,  7.05s/epoch]\u001b[A\n",
      "Epochs: 100%|██████████| 20/20 [02:20<00:00,  7.04s/epoch]\u001b[A"
     ]
    }
   ],
   "source": [
    "from coord2vec.models.data_loading.create_dataset_script import sample_and_save_dataset\n",
    "from coord2vec.feature_extraction.features_builders import house_price_builder, FeaturesBuilder\n",
    "from coord2vec.models.data_loading.tile_features_loader import SingleTileFeaturesDataset\n",
    "\n",
    "n_features = len(house_price_builder.features)\n",
    "\n",
    "for i in range(n_features):\n",
    "    dataset = SingleTileFeaturesDataset(CACHE_DIR, feature_index=i)\n",
    "    feature_builder = FeaturesBuilder(features=[house_price_builder.features[i]])\n",
    "    coord2vec = Coord2Vec(feature_builder, n_channels=3 , tb_dir='single_feature')\n",
    "    coord2vec.fit(dataset, epochs=20, batch_size=64)"
   ]
  },
  {
   "cell_type": "markdown",
   "metadata": {},
   "source": [
    "### Try log loss"
   ]
  },
  {
   "cell_type": "code",
   "execution_count": 11,
   "metadata": {
    "ExecuteTime": {
     "end_time": "2019-07-25T13:32:00.965161Z",
     "start_time": "2019-07-25T13:29:40.259441Z"
    }
   },
   "outputs": [
    {
     "name": "stderr",
     "output_type": "stream",
     "text": [
      "Epochs: 100%|██████████| 20/20 [02:20<00:00,  7.11s/epoch]\n"
     ]
    }
   ],
   "source": [
    "log_coord2vec = Coord2Vec(house_price_builder, n_channels=3 ,log_loss=True,  tb_dir='log_loss')\n",
    "log_coord2vec.fit(dataset, epochs=20, batch_size=64)\n",
    "pass"
   ]
  }
 ],
 "metadata": {
  "kernelspec": {
   "name": "python3",
   "language": "python",
   "display_name": "Python 3"
  },
  "language_info": {
   "codemirror_mode": {
    "name": "ipython",
    "version": 3
   },
   "file_extension": ".py",
   "mimetype": "text/x-python",
   "name": "python",
   "nbconvert_exporter": "python",
   "pygments_lexer": "ipython3",
   "version": "3.6.7"
  },
  "pycharm": {
   "stem_cell": {
    "cell_type": "raw",
    "source": [],
    "metadata": {
     "collapsed": false
    }
   }
  }
 },
 "nbformat": 4,
 "nbformat_minor": 2
}